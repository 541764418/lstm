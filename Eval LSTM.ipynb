{
 "cells": [
  {
   "cell_type": "code",
   "execution_count": 1,
   "metadata": {
    "collapsed": true
   },
   "outputs": [],
   "source": [
    "from matplotlib import pyplot as plt\n",
    "%matplotlib inline\n",
    "import pandas as pd"
   ]
  },
  {
   "cell_type": "code",
   "execution_count": 2,
   "metadata": {
    "collapsed": true
   },
   "outputs": [],
   "source": [
    "import basic as b"
   ]
  },
  {
   "cell_type": "code",
   "execution_count": 26,
   "metadata": {},
   "outputs": [
    {
     "data": {
      "text/plain": [
       "<module 'basic' from '/Users/paulm/code/rnn/lstm/basic.py'>"
      ]
     },
     "execution_count": 26,
     "metadata": {},
     "output_type": "execute_result"
    }
   ],
   "source": [
    "from importlib import reload\n",
    "reload(b)"
   ]
  },
  {
   "cell_type": "code",
   "execution_count": 27,
   "metadata": {
    "collapsed": true
   },
   "outputs": [],
   "source": [
    "timesteps=32"
   ]
  },
  {
   "cell_type": "code",
   "execution_count": 28,
   "metadata": {
    "collapsed": true
   },
   "outputs": [],
   "source": [
    "m = b.TSModel(timesteps=timesteps)"
   ]
  },
  {
   "cell_type": "code",
   "execution_count": 29,
   "metadata": {},
   "outputs": [
    {
     "name": "stdout",
     "output_type": "stream",
     "text": [
      "INFO:tensorflow:step = 1, loss = 0.0350027\n",
      "INFO:tensorflow:step = 2, loss = 0.230253\n",
      "INFO:tensorflow:step = 3, loss = 0.53872\n",
      "INFO:tensorflow:step = 4, loss = 0.830821\n",
      "INFO:tensorflow:step = 5, loss = 0.983842\n",
      "INFO:tensorflow:step = 6, loss = 0.933489\n",
      "INFO:tensorflow:step = 7, loss = 0.700906\n",
      "INFO:tensorflow:step = 8, loss = 0.383798\n",
      "INFO:tensorflow:step = 9, loss = 0.115401\n",
      "INFO:tensorflow:step = 10, loss = 0.00851845\n",
      "INFO:tensorflow:step = 11, loss = 0.108135\n",
      "INFO:tensorflow:step = 12, loss = 0.372508\n",
      "INFO:tensorflow:step = 13, loss = 0.690686\n",
      "INFO:tensorflow:step = 14, loss = 0.929105\n",
      "INFO:tensorflow:step = 15, loss = 0.987672\n",
      "INFO:tensorflow:step = 16, loss = 0.841803\n",
      "INFO:tensorflow:step = 17, loss = 0.552742\n",
      "INFO:tensorflow:step = 18, loss = 0.241834\n",
      "INFO:tensorflow:step = 19, loss = 0.0395726\n",
      "INFO:tensorflow:step = 20, loss = 0.030796\n"
     ]
    }
   ],
   "source": [
    "mres = b.state_train(m, 20)"
   ]
  },
  {
   "cell_type": "code",
   "execution_count": 30,
   "metadata": {
    "collapsed": true
   },
   "outputs": [],
   "source": [
    "m2 = b.TSModel(timesteps=timesteps, feed_state=False)"
   ]
  },
  {
   "cell_type": "code",
   "execution_count": 31,
   "metadata": {},
   "outputs": [
    {
     "name": "stdout",
     "output_type": "stream",
     "text": [
      "INFO:tensorflow:step = 1, loss = 0.0350027\n",
      "INFO:tensorflow:step = 2, loss = 0.230174\n",
      "INFO:tensorflow:step = 3, loss = 0.538495\n",
      "INFO:tensorflow:step = 4, loss = 0.830413\n",
      "INFO:tensorflow:step = 5, loss = 0.983259\n",
      "INFO:tensorflow:step = 6, loss = 0.932787\n",
      "INFO:tensorflow:step = 7, loss = 0.700185\n",
      "INFO:tensorflow:step = 8, loss = 0.383192\n",
      "INFO:tensorflow:step = 9, loss = 0.115054\n",
      "INFO:tensorflow:step = 10, loss = 0.00855998\n",
      "INFO:tensorflow:step = 11, loss = 0.108646\n",
      "INFO:tensorflow:step = 12, loss = 0.373491\n",
      "INFO:tensorflow:step = 13, loss = 0.692056\n",
      "INFO:tensorflow:step = 14, loss = 0.930698\n",
      "INFO:tensorflow:step = 15, loss = 0.98929\n",
      "INFO:tensorflow:step = 16, loss = 0.843248\n",
      "INFO:tensorflow:step = 17, loss = 0.553853\n",
      "INFO:tensorflow:step = 18, loss = 0.242509\n",
      "INFO:tensorflow:step = 19, loss = 0.039772\n",
      "INFO:tensorflow:step = 20, loss = 0.0305408\n"
     ]
    }
   ],
   "source": [
    "m2res = b.nostate_train(m2, 20)"
   ]
  },
  {
   "cell_type": "code",
   "execution_count": 48,
   "metadata": {},
   "outputs": [],
   "source": [
    "res = pd.DataFrame({\"feed state\": mres, \"no feed state\": m2res})"
   ]
  },
  {
   "cell_type": "code",
   "execution_count": 49,
   "metadata": {},
   "outputs": [
    {
     "data": {
      "text/html": [
       "<div>\n",
       "<table border=\"1\" class=\"dataframe\">\n",
       "  <thead>\n",
       "    <tr style=\"text-align: right;\">\n",
       "      <th></th>\n",
       "      <th>feed state</th>\n",
       "      <th>no feed state</th>\n",
       "    </tr>\n",
       "  </thead>\n",
       "  <tbody>\n",
       "    <tr>\n",
       "      <th>0</th>\n",
       "      <td>0.035003</td>\n",
       "      <td>0.035003</td>\n",
       "    </tr>\n",
       "    <tr>\n",
       "      <th>1</th>\n",
       "      <td>0.230253</td>\n",
       "      <td>0.230174</td>\n",
       "    </tr>\n",
       "    <tr>\n",
       "      <th>2</th>\n",
       "      <td>0.538720</td>\n",
       "      <td>0.538495</td>\n",
       "    </tr>\n",
       "    <tr>\n",
       "      <th>3</th>\n",
       "      <td>0.830821</td>\n",
       "      <td>0.830413</td>\n",
       "    </tr>\n",
       "    <tr>\n",
       "      <th>4</th>\n",
       "      <td>0.983842</td>\n",
       "      <td>0.983259</td>\n",
       "    </tr>\n",
       "    <tr>\n",
       "      <th>5</th>\n",
       "      <td>0.933489</td>\n",
       "      <td>0.932787</td>\n",
       "    </tr>\n",
       "    <tr>\n",
       "      <th>6</th>\n",
       "      <td>0.700906</td>\n",
       "      <td>0.700185</td>\n",
       "    </tr>\n",
       "    <tr>\n",
       "      <th>7</th>\n",
       "      <td>0.383798</td>\n",
       "      <td>0.383192</td>\n",
       "    </tr>\n",
       "    <tr>\n",
       "      <th>8</th>\n",
       "      <td>0.115401</td>\n",
       "      <td>0.115054</td>\n",
       "    </tr>\n",
       "    <tr>\n",
       "      <th>9</th>\n",
       "      <td>0.008518</td>\n",
       "      <td>0.008560</td>\n",
       "    </tr>\n",
       "    <tr>\n",
       "      <th>10</th>\n",
       "      <td>0.108135</td>\n",
       "      <td>0.108646</td>\n",
       "    </tr>\n",
       "    <tr>\n",
       "      <th>11</th>\n",
       "      <td>0.372508</td>\n",
       "      <td>0.373491</td>\n",
       "    </tr>\n",
       "    <tr>\n",
       "      <th>12</th>\n",
       "      <td>0.690686</td>\n",
       "      <td>0.692056</td>\n",
       "    </tr>\n",
       "    <tr>\n",
       "      <th>13</th>\n",
       "      <td>0.929105</td>\n",
       "      <td>0.930698</td>\n",
       "    </tr>\n",
       "    <tr>\n",
       "      <th>14</th>\n",
       "      <td>0.987672</td>\n",
       "      <td>0.989290</td>\n",
       "    </tr>\n",
       "    <tr>\n",
       "      <th>15</th>\n",
       "      <td>0.841803</td>\n",
       "      <td>0.843248</td>\n",
       "    </tr>\n",
       "    <tr>\n",
       "      <th>16</th>\n",
       "      <td>0.552742</td>\n",
       "      <td>0.553853</td>\n",
       "    </tr>\n",
       "    <tr>\n",
       "      <th>17</th>\n",
       "      <td>0.241834</td>\n",
       "      <td>0.242509</td>\n",
       "    </tr>\n",
       "    <tr>\n",
       "      <th>18</th>\n",
       "      <td>0.039573</td>\n",
       "      <td>0.039772</td>\n",
       "    </tr>\n",
       "    <tr>\n",
       "      <th>19</th>\n",
       "      <td>0.030796</td>\n",
       "      <td>0.030541</td>\n",
       "    </tr>\n",
       "  </tbody>\n",
       "</table>\n",
       "</div>"
      ],
      "text/plain": [
       "    feed state  no feed state\n",
       "0     0.035003       0.035003\n",
       "1     0.230253       0.230174\n",
       "2     0.538720       0.538495\n",
       "3     0.830821       0.830413\n",
       "4     0.983842       0.983259\n",
       "5     0.933489       0.932787\n",
       "6     0.700906       0.700185\n",
       "7     0.383798       0.383192\n",
       "8     0.115401       0.115054\n",
       "9     0.008518       0.008560\n",
       "10    0.108135       0.108646\n",
       "11    0.372508       0.373491\n",
       "12    0.690686       0.692056\n",
       "13    0.929105       0.930698\n",
       "14    0.987672       0.989290\n",
       "15    0.841803       0.843248\n",
       "16    0.552742       0.553853\n",
       "17    0.241834       0.242509\n",
       "18    0.039573       0.039772\n",
       "19    0.030796       0.030541"
      ]
     },
     "execution_count": 49,
     "metadata": {},
     "output_type": "execute_result"
    }
   ],
   "source": [
    "res"
   ]
  },
  {
   "cell_type": "code",
   "execution_count": 50,
   "metadata": {
    "collapsed": true
   },
   "outputs": [],
   "source": [
    "plt.style.use('ggplot')"
   ]
  },
  {
   "cell_type": "code",
   "execution_count": 51,
   "metadata": {},
   "outputs": [
    {
     "data": {
      "text/plain": [
       "<matplotlib.axes._subplots.AxesSubplot at 0x115a62048>"
      ]
     },
     "execution_count": 51,
     "metadata": {},
     "output_type": "execute_result"
    },
    {
     "data": {
      "image/png": "[encoded data removed]",
      "text/plain": [
       "<matplotlib.figure.Figure at 0x115a373c8>"
      ]
     },
     "metadata": {},
     "output_type": "display_data"
    }
   ],
   "source": [
    "res.plot()"
   ]
  },
  {
   "cell_type": "code",
   "execution_count": 52,
   "metadata": {},
   "outputs": [
    {
     "data": {
      "text/plain": [
       "array([<matplotlib.axes._subplots.AxesSubplot object at 0x115afe6d8>,\n",
       "       <matplotlib.axes._subplots.AxesSubplot object at 0x115bee7b8>], dtype=object)"
      ]
     },
     "execution_count": 52,
     "metadata": {},
     "output_type": "execute_result"
    },
    {
     "data": {
      "image/png": "[encoded data removed]",
      "text/plain": [
       "<matplotlib.figure.Figure at 0x115b0a470>"
      ]
     },
     "metadata": {},
     "output_type": "display_data"
    }
   ],
   "source": [
    "res.plot(subplots=True)"
   ]
  }
 ],
 "metadata": {
  "kernelspec": {
   "display_name": "Python 3",
   "language": "python",
   "name": "python3"
  },
  "language_info": {
   "codemirror_mode": {
    "name": "ipython",
    "version": 3
   },
   "file_extension": ".py",
   "mimetype": "text/x-python",
   "name": "python",
   "nbconvert_exporter": "python",
   "pygments_lexer": "ipython3",
   "version": "3.6.1"
  }
 },
 "nbformat": 4,
 "nbformat_minor": 2
}
